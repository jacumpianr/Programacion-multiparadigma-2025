{
  "nbformat": 4,
  "nbformat_minor": 0,
  "metadata": {
    "colab": {
      "provenance": []
    },
    "kernelspec": {
      "name": "python3",
      "display_name": "Python 3"
    },
    "language_info": {
      "name": "python"
    }
  },
  "cells": [
    {
      "cell_type": "markdown",
      "source": [
        "Hola Mundo"
      ],
      "metadata": {
        "id": "xHBaXmHKI9Mq"
      }
    },
    {
      "cell_type": "code",
      "execution_count": null,
      "metadata": {
        "id": "btUqun0vIq0c"
      },
      "outputs": [],
      "source": [
        "print(\"Hola, este es mi primer programa en Python con Colab\")\n",
        "\n",
        "nombre = input(\"Ingrese su nombre: \")\n",
        "edad = input(\"Ingrese su edad: \")\n",
        "print(f\"Hola {nombre}, tienes {edad} años\")"
      ]
    }
  ]
}